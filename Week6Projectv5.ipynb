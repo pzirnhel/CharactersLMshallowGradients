{
 "cells": [
  {
   "cell_type": "markdown",
   "metadata": {},
   "source": [
    "# Writing poems Shakespeare-style using a language model with limited depth\n",
    "\n",
    "## Step 1: Introduction\n",
    "\n",
    "\n",
    "### The problem\n",
    "\n",
    "In my in-law's family, we have a tradition for Christmas. Each of us is to write a poem that will be used by the gift receiver to identify the person who gave it. The writer is to leave in the poem enough cues for the receiver to guess, but not say their name. \n",
    "\n",
    "Although most of us may enjoy writing poems, for my brother-in-law, it is a chore. So, I have decided to use what was learned in this course to build a small language model that would generate a poem for him, or rather, almost all the poem, provided he puts enough cues about himself in the prompt. \n",
    "\n",
    "Note that Shakespeare-style text generation has been done with a network using a single Gated Recurrent Unit network [1]. With the current work, I wanted to improve on this model, as under the hood, it makes use of gradient clipping to deal with exploding gradients. If you attempt to run the model described in [1] with a legacy optimizer that does not use gradient clipping with long sequences, the loss will suddenly jump up and training will fail, due to gradient explosion. Specifically, I wanted to build a model with a depth small enough to be handled by a legacy optimizer.\n",
    "\n",
    "So rather than simply building a language model for my brother-in-law to write his poem, which has been done by [1], I wanted to find a way to do it without the infinite depth of gradient backpropagation that comes with using Gated Recurrent Units [2] whereby the last output serves as the initial state for the next batch as in [1]. Unlike the forward pass which includes non-linearities, the backward propagation of gradients is purely linear. With each layer, gradients get multiplied by the weight matrix of the layer. With recurrent networks, the recurrent weight matrix is the same as gradients get backpropagated in time. This means gradients are muliplied by the same matrix raised to an infinite power. If a diagonal element is above 1, it leads to gradient explosion. If it is below 1, it leads to vanishing gradients.\n",
    "\n",
    "Using a classical encoder-decoder architecture design, also used in large Transformers [3], I kept a GRU for decoding, but changed the encoder as to make it shallower, starting with an initial state of zeros whereby gradient backpropagation stops. The results were generally good as long as the encoder included GRUs. It was possible to generate a poem for my brother-in-law keeping the encoder not too deep and recycling the already predicted text as the prompt, using short sequences.\n",
    "\n",
    "### A few words about language models\n",
    "\n",
    "Language models are deep neural networks that generate text given a prompt. ChatGPT is probably the most famous one. Use cases include language translation, writing essays, writing code etc... The large language models are word based. The models generate feature vectors that are then converted by a gigantic softmax into word codes. Given the number of words in the English language, this categorical prediction task has to deal with a huge number of categories: the entirity of the English vocabulary. For this reason, this work is not word based. It is character based. In the entire Shakespeare work, there are only 65 different characters, a reasonable number of categories. \n",
    "\n",
    "A classical architecture in language models is the encoder-decoder one. The prompt is encoded into a latent vector or matrix, which is passed to the decoder as a representation used to generate text. The decoder output is conditional on this latent representation, but also on the already predicted sequence of words or characters. The decoder generates one word or character after the other. The work presented here follows this general architecture: what is passed from encoder to decoder is the initial state vector of the decoding GRU: it has the dimension of GRU layer. During decoding, some units will keep this information available to decode the end of the decoded sequence, while others more concerned with decoding the begining may alter it. So my goal was to find an encoder that would provide to the decoder a latent representation that would contain the necessary information to decode correctly. \n",
    "\n",
    "During training, both the sequence to encode and the ground truth about the decoded sequence are presented to the network. During generation, only the prompt is.\n",
    "\n",
    "### Choice of metric\n",
    "\n",
    "In addition to accuracy on a randomly drawn validation subset not used for training, we use a much simpler metric. Given a standard prompt, at the end of training, if the text generated is made of English words, the training is considered successful. If it is made of non-words, it is a failure.\n",
    "\n",
    "### Data source\n",
    "\n",
    "The data comes from Andrej Karpathy [4]. He also includes there a lot of interesting information about recurrent neural networks.\n",
    "\n",
    "### Organization of this notebook\n",
    "\n",
    "The first part of this notebook, this introduction, is devoted to the definition of the problem we attempt to solve: find an encoder shallow enough to prevent exploding gradients and deliver to the decoder a latent representation allowing it to generate English words. In this first part, we also present the data. In the second part we perform exploratory data analysis. In the third part, we present the model iterations with different design choices (hyperparameters). In the fourth part, we recapitulate the results. In the fifth part, we conclude. \n",
    "\n",
    "### Data overview\n"
   ]
  },
  {
   "cell_type": "code",
   "execution_count": 1,
   "metadata": {},
   "outputs": [
    {
     "name": "stderr",
     "output_type": "stream",
     "text": [
      "Using TensorFlow backend.\n"
     ]
    }
   ],
   "source": [
    "from __future__ import absolute_import, unicode_literals\n",
    "\n",
    "import tensorflow as tf\n",
    "import keras.utils\n",
    "import numpy as np\n",
    "import os\n",
    "import time\n",
    "import matplotlib.pyplot as plt\n",
    "import pandas as pd"
   ]
  },
  {
   "cell_type": "code",
   "execution_count": 2,
   "metadata": {},
   "outputs": [],
   "source": [
    "path_to_file = \"tmp/shakespeare.txt\"\n",
    "text = open(path_to_file, 'rb').read().decode(encoding='utf-8')"
   ]
  },
  {
   "cell_type": "markdown",
   "metadata": {},
   "source": [
    "How many characters are there in the entire book of Shakespeare's work?"
   ]
  },
  {
   "cell_type": "code",
   "execution_count": 3,
   "metadata": {},
   "outputs": [
    {
     "name": "stdout",
     "output_type": "stream",
     "text": [
      "The text is 1115394 characters-long\n"
     ]
    }
   ],
   "source": [
    "print('The text is '+str(len(text))+' characters-long')"
   ]
  },
  {
   "cell_type": "markdown",
   "metadata": {},
   "source": [
    "What does a snipet of text look like?"
   ]
  },
  {
   "cell_type": "code",
   "execution_count": 4,
   "metadata": {},
   "outputs": [
    {
     "name": "stdout",
     "output_type": "stream",
     "text": [
      "\n",
      "Here is a snipet:\n",
      "\"First Citizen:\n",
      "Before we proceed any further, hear me speak.\n",
      "\n",
      "All:\n",
      "Speak, speak.\n",
      "\n",
      "First Citizen:\n",
      "You are all resolved rather to die than to famish?\n",
      "\n",
      "All:\n",
      "Resolved. resolved.\n",
      "\n",
      "First Citizen:\n",
      "First, you know Caius Marcius is chief enemy to the people.\n",
      "\"\n"
     ]
    }
   ],
   "source": [
    "print('\\nHere is a snipet:\\n\"'+text[:250]+'\"')"
   ]
  },
  {
   "cell_type": "markdown",
   "metadata": {},
   "source": [
    "## Step 2: exploratory data analysis\n",
    "\n",
    "#### Data exploration\n",
    "\n",
    "Let's first get a list of unique characters in the file, using set(text), then rank them according to utf-8 code"
   ]
  },
  {
   "cell_type": "code",
   "execution_count": 5,
   "metadata": {},
   "outputs": [
    {
     "name": "stdout",
     "output_type": "stream",
     "text": [
      "There are 65 unique characters used in this text. Very few!\n"
     ]
    }
   ],
   "source": [
    "vocabulary = sorted(set(text))\n",
    "print('There are '+str(len(vocabulary))+' unique characters used in this text. Very few!')"
   ]
  },
  {
   "cell_type": "markdown",
   "metadata": {},
   "source": [
    "What are these characters?"
   ]
  },
  {
   "cell_type": "code",
   "execution_count": 6,
   "metadata": {},
   "outputs": [
    {
     "name": "stdout",
     "output_type": "stream",
     "text": [
      "'\\n', ' ', '!', '$', '&', \"'\", ',', '-', '.', '3', ':', ';', '?', 'A', 'B', 'C', 'D', 'E', 'F', 'G', 'H', 'I', 'J', 'K', 'L', 'M', 'N', 'O', 'P', 'Q', 'R', 'S', 'T', 'U', 'V', 'W', 'X', 'Y', 'Z', 'a', 'b', 'c', 'd', 'e', 'f', 'g', 'h', 'i', 'j', 'k', 'l', 'm', 'n', 'o', 'p', 'q', 'r', 's', 't', 'u', 'v', 'w', 'x', 'y', 'z'\n"
     ]
    }
   ],
   "source": [
    "char_set=repr(''.join(vocabulary[0]))\n",
    "for char in vocabulary[1:]:\n",
    "    char_set=char_set+', '+repr(''.join(char))\n",
    "print(char_set)"
   ]
  },
  {
   "cell_type": "markdown",
   "metadata": {},
   "source": [
    "Let's look at how often they appear in the text. To do so, though, we need to first create a dictionary giving the vocabulary index given the character and the opposite: a numpy array giving the character given its vocabulary index. Then we will convert the entire text into a long numpy array of integers.\n",
    "\n",
    "First the dictionary with the character c as the key and the index value i in the vocabulary"
   ]
  },
  {
   "cell_type": "code",
   "execution_count": 7,
   "metadata": {},
   "outputs": [],
   "source": [
    "idxGivenChar = {c:i for i, c in enumerate(vocabulary)}"
   ]
  },
  {
   "cell_type": "markdown",
   "metadata": {},
   "source": [
    "Then the other way around: an array of characters giving the character using the index in the vocabulary"
   ]
  },
  {
   "cell_type": "code",
   "execution_count": 8,
   "metadata": {},
   "outputs": [],
   "source": [
    "charGivenIdx = np.array(vocabulary)"
   ]
  },
  {
   "cell_type": "markdown",
   "metadata": {},
   "source": [
    "Finally transform the whole text into vocabulary index integers rather than utf-8 characters"
   ]
  },
  {
   "cell_type": "code",
   "execution_count": 9,
   "metadata": {},
   "outputs": [
    {
     "name": "stdout",
     "output_type": "stream",
     "text": [
      "The text snippet: \"First Citizen\" becomes: [18 47 56 57 58  1 15 47 58 47 64 43 52]\n"
     ]
    }
   ],
   "source": [
    "text_as_int = np.array([idxGivenChar[c] for c in text])\n",
    "print('The text snippet: \"'+str(text[:13])+'\" becomes: '+str(text_as_int[:13]))"
   ]
  },
  {
   "cell_type": "markdown",
   "metadata": {},
   "source": [
    "Now we can count the number of times each character appears in the text"
   ]
  },
  {
   "cell_type": "code",
   "execution_count": 10,
   "metadata": {},
   "outputs": [
    {
     "name": "stdout",
     "output_type": "stream",
     "text": [
      "[ 40000 169892   2172      1      3   6187  19846   1897   7885     27\n",
      "  10316   3628   2462   7819   2761   3820   2089   6041   1797   2399\n",
      "   3068  11832    320   1584   3876   2840   5079   5481   1641    231\n",
      "   4869   4523   7015   3313    798   3530    112   1718    198  55507\n",
      "  11321  15623  31358  94611  15770  13356  51310  45537    628   7088\n",
      "  33339  22243  48529  65798  10808    609  48889  49696  67009  26584\n",
      "   7793  17585    529  20448    356]\n"
     ]
    }
   ],
   "source": [
    "char_counts=np.zeros([len(vocabulary)],np.int64)\n",
    "for char_as_int in text_as_int:\n",
    "    char_counts[char_as_int]+=1\n",
    "print(char_counts)"
   ]
  },
  {
   "cell_type": "markdown",
   "metadata": {},
   "source": [
    "Or, on a histogram:"
   ]
  },
  {
   "cell_type": "code",
   "execution_count": 11,
   "metadata": {},
   "outputs": [
    {
     "data": {
      "image/png": "[encoded data removed]",
      "text/plain": [
       "<Figure size 720x288 with 1 Axes>"
      ]
     },
     "metadata": {},
     "output_type": "display_data"
    }
   ],
   "source": [
    "fig,ax=plt.subplots(1,1,figsize=(10,4))\n",
    "ax.bar(list(range(len(char_counts))),char_counts)\n",
    "ax.set_ylabel('character counts')\n",
    "ax.set_title('Number of characters as a function of character index')\n",
    "plt.show()"
   ]
  },
  {
   "cell_type": "markdown",
   "metadata": {},
   "source": [
    "Some of these are very rare"
   ]
  },
  {
   "cell_type": "code",
   "execution_count": 12,
   "metadata": {},
   "outputs": [
    {
     "name": "stdout",
     "output_type": "stream",
     "text": [
      "'$' 1, '&' 3, '3' 27, 'X' 112, \n"
     ]
    }
   ],
   "source": [
    "print(repr(charGivenIdx[3])+' '+str(char_counts[3])+', '+repr(charGivenIdx[4])+' '+str(char_counts[4])+', '\n",
    "     +repr(charGivenIdx[9])+' '+str(char_counts[9])+', '+repr(charGivenIdx[36])+' '+str(char_counts[36])+', ')"
   ]
  },
  {
   "cell_type": "markdown",
   "metadata": {},
   "source": [
    "#### Data cleaning\n",
    "\n",
    "It would be tempting, if for example the dollar or the ampersand characters were in the end of the text, to get rid of this portion, but they are not:"
   ]
  },
  {
   "cell_type": "code",
   "execution_count": 13,
   "metadata": {},
   "outputs": [
    {
     "name": "stdout",
     "output_type": "stream",
     "text": [
      "Ampersand is found at position: 75323\n",
      "Ampersand is found at position: 75671\n",
      "Ampersand is found at position: 683321\n",
      "Dollar is found at position: 686615\n",
      "The last character has position: 1115393\n"
     ]
    }
   ],
   "source": [
    "for position in range(len(text)):\n",
    "    if text[position]=='$':\n",
    "        print('Dollar is found at position: '+str(position))\n",
    "    if text[position]=='&':\n",
    "        print('Ampersand is found at position: '+str(position))\n",
    "print('The last character has position: '+str(len(text)-1))"
   ]
  },
  {
   "cell_type": "markdown",
   "metadata": {},
   "source": [
    "So there is no cleaning to do.\n",
    "\n",
    "## Step 3: model iterations\n",
    "\n",
    "#### Data processing into sequences\n",
    "\n",
    "For this work, we will set the encoder and the decoder sequence lengths both at 10 characters. So for training and inference, the encoder will need 10 characters of input sequence. For training only, the decoder will need the next 10 characters."
   ]
  },
  {
   "cell_type": "code",
   "execution_count": 86,
   "metadata": {},
   "outputs": [],
   "source": [
    "seq_length=10"
   ]
  },
  {
   "cell_type": "markdown",
   "metadata": {},
   "source": [
    "However, as a decoder, we use a GRU, with the parameter \"return_sequences\" set to True. What this means is that at each time step, the GRU will generate a prediction for the next character in the sequence, and, during training, the gradient will be computed by comparing with the ground truth: the actual next character. So for the whole input sequence, for training purposes, we also need a sequence of next characters, which is the input sequence minus the first input character plus the character following the last input character. In other words, the same sequence shifted by one position.\n",
    "\n",
    "So we will chop the data into text snippets of length 2 sequence lengths plus 1, from which we can extract the various sequences needed for the encoder and decoder."
   ]
  },
  {
   "cell_type": "code",
   "execution_count": 87,
   "metadata": {},
   "outputs": [],
   "source": [
    "snippet_length=2*seq_length+1"
   ]
  },
  {
   "cell_type": "markdown",
   "metadata": {},
   "source": [
    "So if we chop the text into sequences of length 21, it creates as many samples as we can extract from the data:"
   ]
  },
  {
   "cell_type": "code",
   "execution_count": 88,
   "metadata": {},
   "outputs": [
    {
     "name": "stdout",
     "output_type": "stream",
     "text": [
      "53114\n"
     ]
    }
   ],
   "source": [
    "n_samples_per_epoch = len(text)//snippet_length\n",
    "print(n_samples_per_epoch)"
   ]
  },
  {
   "cell_type": "markdown",
   "metadata": {},
   "source": [
    "Let's get chop the text into sequences of length 21:"
   ]
  },
  {
   "cell_type": "code",
   "execution_count": 89,
   "metadata": {},
   "outputs": [],
   "source": [
    "sequences = np.array([text_as_int[idx*snippet_length:(idx+1)*snippet_length] for idx in range(n_samples_per_epoch)])"
   ]
  },
  {
   "cell_type": "markdown",
   "metadata": {},
   "source": [
    "Depending on the batch size, we may or may not use all theses, so let's set the batch size and see how many batches we can extract from the data"
   ]
  },
  {
   "cell_type": "code",
   "execution_count": 90,
   "metadata": {},
   "outputs": [
    {
     "name": "stdout",
     "output_type": "stream",
     "text": [
      "829\n"
     ]
    }
   ],
   "source": [
    "batch_size = 64\n",
    "n_batches_per_epoch=n_samples_per_epoch//batch_size\n",
    "print(n_batches_per_epoch)"
   ]
  },
  {
   "cell_type": "markdown",
   "metadata": {},
   "source": [
    "Now we know the number of batches we fit in an epoch, we can calculate the number of samples we actually use."
   ]
  },
  {
   "cell_type": "code",
   "execution_count": 91,
   "metadata": {},
   "outputs": [
    {
     "name": "stdout",
     "output_type": "stream",
     "text": [
      "53056\n"
     ]
    }
   ],
   "source": [
    "n_usable_samples=n_batches_per_epoch*batch_size\n",
    "print(n_usable_samples)"
   ]
  },
  {
   "cell_type": "markdown",
   "metadata": {},
   "source": [
    "Then split the sample sequences into input and labels:"
   ]
  },
  {
   "cell_type": "code",
   "execution_count": 92,
   "metadata": {},
   "outputs": [
    {
     "name": "stdout",
     "output_type": "stream",
     "text": [
      "(53056, 20) (53056, 20)\n"
     ]
    }
   ],
   "source": [
    "def split_input_target(snippet):\n",
    "    input_text = snippet[:,:-1]\n",
    "    target_text = snippet[:,1:]\n",
    "    return input_text, target_text\n",
    "\n",
    "input_data, target_data = split_input_target(sequences[:n_usable_samples])\n",
    "print(input_data.shape, target_data.shape)"
   ]
  },
  {
   "cell_type": "markdown",
   "metadata": {},
   "source": [
    "Shuffling the data and separate it into a training set and a validation set will be done by the fit method."
   ]
  },
  {
   "cell_type": "code",
   "execution_count": 93,
   "metadata": {},
   "outputs": [
    {
     "name": "stdout",
     "output_type": "stream",
     "text": [
      "0.09891435464414958\n"
     ]
    }
   ],
   "source": [
    "n_batches_per_epoch//10\n",
    "validation_split=(n_batches_per_epoch//10)/n_batches_per_epoch\n",
    "print(validation_split)"
   ]
  },
  {
   "cell_type": "markdown",
   "metadata": {},
   "source": [
    "Using the \"charGivenIdx\" mapping array, we can translate these inputs and labels into plain text:"
   ]
  },
  {
   "cell_type": "code",
   "execution_count": 94,
   "metadata": {},
   "outputs": [
    {
     "name": "stdout",
     "output_type": "stream",
     "text": [
      "Input data:\n",
      " 'head below his kne\n",
      "\n",
      "Target data:\n",
      "'head below his knee\n"
     ]
    }
   ],
   "source": [
    "rd=np.int32(n_samples_per_epoch*np.random.rand())\n",
    "print('Input data:')\n",
    "print (''.join(charGivenIdx[input_data[rd]]))\n",
    "print('\\nTarget data:')\n",
    "print (''.join(charGivenIdx[target_data[rd]]))"
   ]
  },
  {
   "cell_type": "markdown",
   "metadata": {},
   "source": [
    "#### Model iteration 1: the encoder is a convolutional network\n",
    "\n",
    "As a first attempt, we will try to use a convolutional network to encode the encoder sequence into a representation fo the initial state fed to the decoding GRU"
   ]
  },
  {
   "cell_type": "code",
   "execution_count": 95,
   "metadata": {},
   "outputs": [],
   "source": [
    "# Hyperparameters:\n",
    "\n",
    "# Length of the vocabulary in chars\n",
    "vocab_size = len(vocabulary)\n",
    "\n",
    "# The embedding dimension\n",
    "embedding_dim = 256\n",
    "\n",
    "# Number of RNN units\n",
    "rnn_units = 1024"
   ]
  },
  {
   "cell_type": "markdown",
   "metadata": {},
   "source": [
    "However, since we are also using instance normalization layers and my keras implementation does not include this object, we need to implement our own."
   ]
  },
  {
   "cell_type": "code",
   "execution_count": 96,
   "metadata": {},
   "outputs": [],
   "source": [
    "class MyInstanceNormalizationVersion(tf.keras.layers.Layer):\n",
    "    def __init__(self,epsilon=1e-3):\n",
    "        super().__init__()\n",
    "        self.epsilon=epsilon\n",
    "        \n",
    "    def call(self,inputs):\n",
    "        instance_mean=tf.reshape(tf.reduce_mean(tf.reduce_mean(inputs,axis=2),axis=1),[-1,1,1])\n",
    "        instance_var=tf.reduce_mean(tf.reduce_mean((inputs-instance_mean)**2,axis=2),axis=1)\n",
    "        instance_std_dev=tf.reshape(tf.sqrt(instance_var),[-1,1,1])\n",
    "        return (inputs-instance_mean)/(instance_std_dev+self.epsilon)"
   ]
  },
  {
   "cell_type": "code",
   "execution_count": 97,
   "metadata": {},
   "outputs": [
    {
     "name": "stdout",
     "output_type": "stream",
     "text": [
      "__________________________________________________________________________________________________\n",
      "Layer (type)                    Output Shape         Param #     Connected to                     \n",
      "==================================================================================================\n",
      "input_12 (InputLayer)           (64, 10)             0                                            \n",
      "__________________________________________________________________________________________________\n",
      "embedding_12 (Embedding)        (64, 10, 256)        16640       input_12[0][0]                   \n",
      "__________________________________________________________________________________________________\n",
      "conv1d_7 (Conv1D)               (64, 6, 256)         327680      embedding_12[0][0]               \n",
      "__________________________________________________________________________________________________\n",
      "leaky_re_lu_5 (LeakyReLU)       (64, 6, 256)         0           conv1d_7[0][0]                   \n",
      "__________________________________________________________________________________________________\n",
      "my_instance_normalization_versi (64, 6, 256)         0           leaky_re_lu_5[0][0]              \n",
      "__________________________________________________________________________________________________\n",
      "conv1d_8 (Conv1D)               (64, 4, 512)         393216      my_instance_normalization_version\n",
      "__________________________________________________________________________________________________\n",
      "leaky_re_lu_6 (LeakyReLU)       (64, 4, 512)         0           conv1d_8[0][0]                   \n",
      "__________________________________________________________________________________________________\n",
      "my_instance_normalization_versi (64, 4, 512)         0           leaky_re_lu_6[0][0]              \n",
      "__________________________________________________________________________________________________\n",
      "conv1d_9 (Conv1D)               (64, 1, 1024)        2097152     my_instance_normalization_version\n",
      "__________________________________________________________________________________________________\n",
      "reshape_9 (Reshape)             (64, 1024)           0           conv1d_9[0][0]                   \n",
      "__________________________________________________________________________________________________\n",
      "gru_13 (GRU)                    (64, 10, 1024)       3935232     embedding_12[0][0]               \n",
      "                                                                 reshape_9[0][0]                  \n",
      "__________________________________________________________________________________________________\n",
      "concatenate_7 (Concatenate)     (64, 11, 1024)       0           conv1d_9[0][0]                   \n",
      "                                                                 gru_13[0][0]                     \n",
      "__________________________________________________________________________________________________\n",
      "dense_6 (Dense)                 (64, 11, 65)         66625       concatenate_7[0][0]              \n",
      "==================================================================================================\n",
      "Total params: 6,836,545\n",
      "Trainable params: 6,836,545\n",
      "Non-trainable params: 0\n",
      "__________________________________________________________________________________________________\n"
     ]
    }
   ],
   "source": [
    "encoder_seq_inputs=tf.keras.Input(batch_shape=(batch_size,seq_length))\n",
    "decoder_seq_inputs=tf.keras.Input(batch_shape=(batch_size,seq_length))\n",
    "x1=tf.keras.layers.Embedding(vocab_size,embedding_dim,batch_size=batch_size)(encoder_seq_inputs)\n",
    "#yields batch_size by seq_length by embedding_dim\n",
    "x2=tf.keras.layers.Embedding(vocab_size,embedding_dim,batch_size=batch_size)(decoder_seq_inputs)\n",
    "#yields batch_size by seq_length by embedding_dim\n",
    "x3=tf.keras.layers.Conv1D(256,kernel_size=5,use_bias=False)(x2)\n",
    "#yields batch_size by (seq_length -5 + 1=6) by 256\n",
    "x3=tf.keras.layers.LeakyReLU(alpha=0.2)(x3)\n",
    "x3=MyInstanceNormalizationVersion()(x3)\n",
    "x3=tf.keras.layers.Conv1D(512,kernel_size=3, use_bias=False)(x3)\n",
    "#yields batch_size by (6-3+1 =4) by 512\n",
    "x3=tf.keras.layers.LeakyReLU(alpha=0.2)(x3)\n",
    "x3=MyInstanceNormalizationVersion()(x3)\n",
    "x4=tf.keras.layers.Conv1D(filters=rnn_units,kernel_size=4, use_bias=False,activation='tanh')(x3)\n",
    "#yields batch_size by 1 by rnn_units\n",
    "x4r=tf.keras.layers.Reshape(target_shape=(rnn_units,))(x4)\n",
    "#yields batch_size by rnn_units\n",
    "x5=tf.keras.layers.GRU(rnn_units,return_sequences=True,stateful=False,\n",
    "                                               recurrent_initializer='glorot_uniform')([x2,x4r])\n",
    "x6=tf.keras.layers.Concatenate(axis=1)([x4,x5])\n",
    "outputs=tf.keras.layers.Dense(vocab_size, activation ='softmax')(x6)\n",
    "model1=tf.keras.Model(inputs=[encoder_seq_inputs,decoder_seq_inputs],outputs=outputs)\n",
    "model1.summary()"
   ]
  },
  {
   "cell_type": "markdown",
   "metadata": {},
   "source": [
    "This large network deserves a little explanation.\n",
    "\n",
    "First, the encoder input sequence gets translated into a sequence of embedding vectors. The decoder input sequence also gets translated into a sequence of embedding vectors, but it will be used later.\n",
    "\n",
    "Second, the translated encoder sequence is interpreted as a 1 D image along the sequence dimension with as many channels as there are embedding dimensions. A series of 3 1 D convolutions with leaky relu activation followed by instance normalization are applied to it. The last convolution is an exception: it has a hyperbolic tangent activation function, in order to match the kind of initial state a GRU gets. The convolution stages decrease the sequence dimension to 1. Here is our latent vector. The latent vector also goes through a dense layer with a softmax activation function, because with GRUs it is also used to predict the next character.\n",
    "\n",
    "For training, the decoder side uses two inputs: the latent vector and the decoder input sequence, translated into embeddings. \n",
    "At each time step, the decoder confronts its category prediction after translation by a dense layer with softmax activation to the ground truth of the next character.\n",
    "\n",
    "So the inputs to the network consist of the encoder sequence, the decoder sequence, the ground truth for the next character predicted by the encoder and the ground truth sequence for the decoder. The way the last two are fed to the model is as as sequence of 11 characters taken from the target data whose start is one time step earlier."
   ]
  },
  {
   "cell_type": "code",
   "execution_count": 98,
   "metadata": {},
   "outputs": [],
   "source": [
    "model1.compile(optimizer='adam',loss='categorical_crossentropy', metrics=['acc'])"
   ]
  },
  {
   "cell_type": "code",
   "execution_count": 99,
   "metadata": {},
   "outputs": [
    {
     "name": "stdout",
     "output_type": "stream",
     "text": [
      "Train on 47808 samples, validate on 5248 samples\n",
      "Epoch 1/15\n",
      "47808/47808 [==============================] - 35s 741us/step - loss: 2.4677 - acc: 0.3491 - val_loss: 2.3146 - val_acc: 0.3835\n",
      "Epoch 2/15\n",
      "47808/47808 [==============================] - 34s 704us/step - loss: 1.9621 - acc: 0.4297 - val_loss: 2.0294 - val_acc: 0.4154\n",
      "Epoch 3/15\n",
      "47808/47808 [==============================] - 34s 705us/step - loss: 1.3310 - acc: 0.6034 - val_loss: 0.8961 - val_acc: 0.7371\n",
      "Epoch 4/15\n",
      "47808/47808 [==============================] - 34s 706us/step - loss: 0.5732 - acc: 0.8287 - val_loss: 0.5225 - val_acc: 0.8460\n",
      "Epoch 5/15\n",
      "47808/47808 [==============================] - 34s 708us/step - loss: 0.3332 - acc: 0.9000 - val_loss: 0.3677 - val_acc: 0.8937\n",
      "Epoch 6/15\n",
      "47808/47808 [==============================] - 34s 708us/step - loss: 0.2473 - acc: 0.9256 - val_loss: 0.3194 - val_acc: 0.9079\n",
      "Epoch 7/15\n",
      "47808/47808 [==============================] - 34s 709us/step - loss: 0.2100 - acc: 0.9365 - val_loss: 0.2902 - val_acc: 0.9173\n",
      "Epoch 8/15\n",
      "47808/47808 [==============================] - 34s 711us/step - loss: 0.1928 - acc: 0.9415 - val_loss: 0.2829 - val_acc: 0.9200\n",
      "Epoch 9/15\n",
      "47808/47808 [==============================] - 34s 713us/step - loss: 0.1807 - acc: 0.9449 - val_loss: 0.2969 - val_acc: 0.9190\n",
      "Epoch 10/15\n",
      "47808/47808 [==============================] - 34s 714us/step - loss: 0.1712 - acc: 0.9477 - val_loss: 0.2790 - val_acc: 0.9228\n",
      "Epoch 11/15\n",
      "47808/47808 [==============================] - 34s 714us/step - loss: 0.1676 - acc: 0.9486 - val_loss: 0.2819 - val_acc: 0.9236\n",
      "Epoch 12/15\n",
      "47808/47808 [==============================] - 34s 714us/step - loss: 0.1616 - acc: 0.9502 - val_loss: 0.2751 - val_acc: 0.9248\n",
      "Epoch 13/15\n",
      "47808/47808 [==============================] - 34s 715us/step - loss: 0.1563 - acc: 0.9518 - val_loss: 0.2802 - val_acc: 0.9258\n",
      "Epoch 14/15\n",
      "47808/47808 [==============================] - 34s 714us/step - loss: 0.1518 - acc: 0.9527 - val_loss: 0.2865 - val_acc: 0.9236\n",
      "Epoch 15/15\n",
      "47808/47808 [==============================] - 34s 715us/step - loss: 0.1507 - acc: 0.9530 - val_loss: 0.2875 - val_acc: 0.9250\n"
     ]
    }
   ],
   "source": [
    "history1=model1.fit([input_data[:,:seq_length],input_data[:,seq_length:]],\n",
    "                   keras.utils.to_categorical(target_data[:,seq_length-1:], num_classes=vocab_size),\n",
    "                   shuffle=True, validation_split=validation_split,\n",
    "                   batch_size=batch_size, epochs=15) #15"
   ]
  },
  {
   "cell_type": "code",
   "execution_count": 100,
   "metadata": {},
   "outputs": [
    {
     "data": {
      "text/plain": [
       "<matplotlib.legend.Legend at 0x1449800be10>"
      ]
     },
     "execution_count": 100,
     "metadata": {},
     "output_type": "execute_result"
    },
    {
     "data": {
      "image/png": "[encoded data removed]",
      "text/plain": [
       "<Figure size 720x432 with 1 Axes>"
      ]
     },
     "metadata": {},
     "output_type": "display_data"
    }
   ],
   "source": [
    "fig, ax = plt.subplots(nrows=1, ncols=1, figsize=(10,6))\n",
    "plt.plot(history1.history['loss'],label='Training Loss')\n",
    "plt.plot(history1.history['val_loss'],label='Validation Loss')\n",
    "ax.set_xlabel(\"Number of epochs -1\", fontsize=14)\n",
    "ax.set_ylabel(\"Loss\", fontsize=14)\n",
    "ax.legend(loc=\"upper right\", fontsize=14)"
   ]
  },
  {
   "cell_type": "code",
   "execution_count": 101,
   "metadata": {},
   "outputs": [
    {
     "data": {
      "text/plain": [
       "<matplotlib.legend.Legend at 0x1467d782f28>"
      ]
     },
     "execution_count": 101,
     "metadata": {},
     "output_type": "execute_result"
    },
    {
     "data": {
      "image/png": "[encoded data removed]",
      "text/plain": [
       "<Figure size 720x432 with 1 Axes>"
      ]
     },
     "metadata": {},
     "output_type": "display_data"
    }
   ],
   "source": [
    "fig, ax = plt.subplots(nrows=1, ncols=1, figsize=(10,6))\n",
    "plt.plot(history1.history['acc'],label='Training Accuracy')\n",
    "plt.plot(history1.history['val_acc'],label='Validation Accuracy')\n",
    "ax.set_xlabel(\"Number of epochs -1\", fontsize=14)\n",
    "ax.set_ylabel(\"Accuracy\", fontsize=14)\n",
    "ax.legend(loc=\"upper left\", fontsize=14)"
   ]
  },
  {
   "cell_type": "markdown",
   "metadata": {},
   "source": [
    "The curves looks great. It looks like we should try training longer. (This was done until the curves flatten. It does not change the results).\n",
    "\n",
    "Let's choose a starter sequence to see what the network will produce:"
   ]
  },
  {
   "cell_type": "code",
   "execution_count": 102,
   "metadata": {},
   "outputs": [],
   "source": [
    "prompt = \"With this \""
   ]
  },
  {
   "cell_type": "markdown",
   "metadata": {},
   "source": [
    "Intitialize the portion of predicted text with this prompt:"
   ]
  },
  {
   "cell_type": "code",
   "execution_count": 103,
   "metadata": {},
   "outputs": [],
   "source": [
    "predicted_text = prompt"
   ]
  },
  {
   "cell_type": "markdown",
   "metadata": {},
   "source": [
    "Tokenize it as an array of indices"
   ]
  },
  {
   "cell_type": "code",
   "execution_count": 104,
   "metadata": {},
   "outputs": [],
   "source": [
    "prompt_int = np.array([idxGivenChar[c] for c in predicted_text])"
   ]
  },
  {
   "cell_type": "markdown",
   "metadata": {},
   "source": [
    "Take the place of the last character of the prompt as the start of the predicted following character indices"
   ]
  },
  {
   "cell_type": "code",
   "execution_count": 105,
   "metadata": {},
   "outputs": [],
   "source": [
    "start_char_int = len(prompt_int)"
   ]
  },
  {
   "cell_type": "markdown",
   "metadata": {},
   "source": [
    "The model demands we send it a batch of inputs. Just as with push pins: even though you need only one, you have to buy 100. Here too, we get a batch of integers, even though we only need one row of the batch matrix to be set to the prompt. So we get a random batch of intputs we call input_example_batch."
   ]
  },
  {
   "cell_type": "code",
   "execution_count": 106,
   "metadata": {},
   "outputs": [],
   "source": [
    "input_example_batch=np.zeros([batch_size,snippet_length-1],np.int32)"
   ]
  },
  {
   "cell_type": "markdown",
   "metadata": {},
   "source": [
    "First we set the number of text snippets of length (snippet_length-1), we want the network to generate and we iterate for a given number of snippets. We first initialize the first line of the batch with the prompt, which may contain less than seq_length characters. Then we iterate over the number of remaining characters to predict for this snippet: the network outputs a prediction, from which we keep the new character predicted as an integer, given by its position in the sequence. We convert this integer into a character. If it is not character number 20, we simply place it where it belongs in the first line of the batch. If it is 20, we set the start all the characters of the prompt but the last one to the all the characters of the first line of the batch but the first one, then we set the last character of the prompt to the predicted character.\n",
    "Then we move on to the next snippet, with this new prompt, as if all the characters but the last one had already been decoded."
   ]
  },
  {
   "cell_type": "code",
   "execution_count": 107,
   "metadata": {},
   "outputs": [],
   "source": [
    "n_snippets=10\n",
    "for snippet in range(n_snippets):\n",
    "    input_example_batch[0,:start_char_int] = prompt_int #we start with char_int = 10 with a prompt of 10 char\n",
    "    for char_idx in range(start_char_int, snippet_length): # char_idx starts at 10 and ends at 20: 11 numbers\n",
    "        example_batch_predictions = np.argmax(model1.predict([input_example_batch[:,:seq_length],\n",
    "                                                              input_example_batch[:,seq_length:]],\n",
    "                                                              verbose=0,batch_size=batch_size),axis=2)\n",
    "        predicted_char = example_batch_predictions[0,char_idx-seq_length] #predicted char starts at 0 ends at 10: 11nbs\n",
    "        predicted_text = predicted_text + charGivenIdx[predicted_char]\n",
    "        if char_idx <snippet_length-1: #if char_idx is less than 20\n",
    "            input_example_batch[0,char_idx]= predicted_char\n",
    "        else: # if char_idx is 20, drop first character of the prompt; \n",
    "            prompt_int[:start_char_int-1] = input_example_batch[0,snippet_length-start_char_int:snippet_length-1]\n",
    "            prompt_int[start_char_int-1] = predicted_char"
   ]
  },
  {
   "cell_type": "markdown",
   "metadata": {},
   "source": [
    "Here is the result"
   ]
  },
  {
   "cell_type": "code",
   "execution_count": 108,
   "metadata": {},
   "outputs": [
    {
     "name": "stdout",
     "output_type": "stream",
     "text": [
      "With this \n",
      "\n",
      "\n",
      "ICIV:\n",
      "\n",
      "A\n",
      "\n",
      "\n",
      "ICIV:\n",
      "\n",
      "A\n",
      "\n",
      "\n",
      "ICIV:\n",
      "\n",
      "A\n",
      "\n",
      "\n",
      "ICIV:\n",
      "\n",
      "A\n",
      "\n",
      "\n",
      "ICIV:\n",
      "\n",
      "A\n",
      "\n",
      "\n",
      "ICIV:\n",
      "\n",
      "A\n",
      "\n",
      "\n",
      "ICIV:\n",
      "\n",
      "A\n",
      "\n",
      "\n",
      "ICIV:\n",
      "\n",
      "A\n",
      "\n",
      "\n",
      "ICIV:\n",
      "\n",
      "A\n",
      "\n",
      "\n",
      "ICIV:\n",
      "\n",
      "A\n"
     ]
    }
   ],
   "source": [
    "print(predicted_text)"
   ]
  },
  {
   "cell_type": "markdown",
   "metadata": {},
   "source": [
    "Oops! Not quite English, or rather an output looking like a broken record playing. Although the training curves were pointing towards much different picture the result is not good. This is likely because accuracy is not the right measure for generating English sentences. Because accuracy destribes the average of character matches in the predicted sequence, when when what matters more is consistency between the characacters generated in forming an English phrase. The probability of characters within a sequence are not independent.\n",
    "\n",
    "Validation accuracy here is a poor measure of performance.\n",
    "\n",
    "#### Model iteration 2: the encoder is a GRU that only puts out the final state\n",
    "\n",
    "So let's backtrack. Perhaps this convolutional network was a bit much over the top. Let's try a GRU again, with the value return_sequences set to False as the goal is to get a single output from the encoder representing the initial state for the decoder."
   ]
  },
  {
   "cell_type": "code",
   "execution_count": 116,
   "metadata": {},
   "outputs": [
    {
     "name": "stdout",
     "output_type": "stream",
     "text": [
      "__________________________________________________________________________________________________\n",
      "Layer (type)                    Output Shape         Param #     Connected to                     \n",
      "==================================================================================================\n",
      "input_15 (InputLayer)           (64, 10)             0                                            \n",
      "__________________________________________________________________________________________________\n",
      "embedding_15 (Embedding)        (64, 10, 256)        16640       input_15[0][0]                   \n",
      "__________________________________________________________________________________________________\n",
      "input_16 (InputLayer)           (64, 10)             0                                            \n",
      "__________________________________________________________________________________________________\n",
      "gru_16 (GRU)                    (64, 1024)           3935232     embedding_15[0][0]               \n",
      "__________________________________________________________________________________________________\n",
      "embedding_16 (Embedding)        (64, 10, 256)        16640       input_16[0][0]                   \n",
      "__________________________________________________________________________________________________\n",
      "reshape_11 (Reshape)            (64, 1, 1024)        0           gru_16[0][0]                     \n",
      "__________________________________________________________________________________________________\n",
      "gru_17 (GRU)                    (64, 10, 1024)       3935232     embedding_16[0][0]               \n",
      "                                                                 gru_16[0][0]                     \n",
      "__________________________________________________________________________________________________\n",
      "concatenate_9 (Concatenate)     (64, 11, 1024)       0           reshape_11[0][0]                 \n",
      "                                                                 gru_17[0][0]                     \n",
      "__________________________________________________________________________________________________\n",
      "dense_8 (Dense)                 (64, 11, 65)         66625       concatenate_9[0][0]              \n",
      "==================================================================================================\n",
      "Total params: 7,970,369\n",
      "Trainable params: 7,970,369\n",
      "Non-trainable params: 0\n",
      "__________________________________________________________________________________________________\n"
     ]
    }
   ],
   "source": [
    "encoder_seq_inputs=tf.keras.Input(batch_shape=(batch_size,seq_length))\n",
    "decoder_seq_inputs=tf.keras.Input(batch_shape=(batch_size,seq_length))\n",
    "x1=tf.keras.layers.Embedding(vocab_size,embedding_dim,batch_size=batch_size)(encoder_seq_inputs)\n",
    "x2=tf.keras.layers.Embedding(vocab_size,embedding_dim,batch_size=batch_size)(decoder_seq_inputs)\n",
    "x3=tf.keras.layers.GRU(rnn_units,return_sequences=False,return_state=False,stateful=False,\n",
    "                                               recurrent_initializer='glorot_uniform')(x1)\n",
    "x5=tf.keras.layers.GRU(rnn_units,return_sequences=True,stateful=False,\n",
    "                                               recurrent_initializer='glorot_uniform')([x2,x3])\n",
    "x4=tf.keras.layers.Reshape(target_shape=(1,rnn_units))(x3)\n",
    "x6=tf.keras.layers.Concatenate(axis=1)([x4,x5])\n",
    "outputs=tf.keras.layers.Dense(vocab_size, activation ='softmax')(x6)\n",
    "model2=tf.keras.Model(inputs=[encoder_seq_inputs,decoder_seq_inputs],outputs=outputs)\n",
    "model2.summary()"
   ]
  },
  {
   "cell_type": "code",
   "execution_count": 117,
   "metadata": {},
   "outputs": [],
   "source": [
    "model2.compile(optimizer='adam',loss='categorical_crossentropy', metrics=['acc'])"
   ]
  },
  {
   "cell_type": "code",
   "execution_count": 118,
   "metadata": {},
   "outputs": [
    {
     "name": "stdout",
     "output_type": "stream",
     "text": [
      "Train on 47808 samples, validate on 5248 samples\n",
      "Epoch 1/10\n",
      "47808/47808 [==============================] - 58s 1ms/step - loss: 2.0496 - acc: 0.4079 - val_loss: 1.8536 - val_acc: 0.4542\n",
      "Epoch 2/10\n",
      "47808/47808 [==============================] - 56s 1ms/step - loss: 1.6369 - acc: 0.5079 - val_loss: 1.7347 - val_acc: 0.4901\n",
      "Epoch 3/10\n",
      "47808/47808 [==============================] - 56s 1ms/step - loss: 1.4982 - acc: 0.5436 - val_loss: 1.6747 - val_acc: 0.5077\n",
      "Epoch 4/10\n",
      "47808/47808 [==============================] - 56s 1ms/step - loss: 1.4007 - acc: 0.5683 - val_loss: 1.6755 - val_acc: 0.5080\n",
      "Epoch 5/10\n",
      "47808/47808 [==============================] - 56s 1ms/step - loss: 1.3166 - acc: 0.5896 - val_loss: 1.6809 - val_acc: 0.5118\n",
      "Epoch 6/10\n",
      "47808/47808 [==============================] - 56s 1ms/step - loss: 1.2316 - acc: 0.6122 - val_loss: 1.7180 - val_acc: 0.5073\n",
      "Epoch 7/10\n",
      "47808/47808 [==============================] - 56s 1ms/step - loss: 1.1453 - acc: 0.6355 - val_loss: 1.7776 - val_acc: 0.5078\n",
      "Epoch 8/10\n",
      "47808/47808 [==============================] - 56s 1ms/step - loss: 1.0609 - acc: 0.6598 - val_loss: 1.8409 - val_acc: 0.4971\n",
      "Epoch 9/10\n",
      "47808/47808 [==============================] - 56s 1ms/step - loss: 0.9806 - acc: 0.6837 - val_loss: 1.9214 - val_acc: 0.4953\n",
      "Epoch 10/10\n",
      "47808/47808 [==============================] - 56s 1ms/step - loss: 0.9086 - acc: 0.7046 - val_loss: 1.9950 - val_acc: 0.4907\n"
     ]
    }
   ],
   "source": [
    "history2=model2.fit([input_data[:,:seq_length],input_data[:,seq_length:]],\n",
    "                    keras.utils.to_categorical(target_data[:,seq_length-1:], num_classes=vocab_size),\n",
    "                    shuffle=True, validation_split=validation_split,\n",
    "                    batch_size=batch_size, epochs=10) #10"
   ]
  },
  {
   "cell_type": "code",
   "execution_count": 119,
   "metadata": {},
   "outputs": [
    {
     "data": {
      "text/plain": [
       "<matplotlib.legend.Legend at 0x1464f04f588>"
      ]
     },
     "execution_count": 119,
     "metadata": {},
     "output_type": "execute_result"
    },
    {
     "data": {
      "image/png": "[encoded data removed]",
      "text/plain": [
       "<Figure size 720x432 with 1 Axes>"
      ]
     },
     "metadata": {},
     "output_type": "display_data"
    }
   ],
   "source": [
    "fig, ax = plt.subplots(nrows=1, ncols=1, figsize=(10,6))\n",
    "plt.plot(history2.history['loss'],label='Training Loss')\n",
    "plt.plot(history2.history['val_loss'],label='Validation Loss')\n",
    "ax.set_xlabel(\"Number of epochs -1\", fontsize=14)\n",
    "ax.set_ylabel(\"Loss\", fontsize=14)\n",
    "ax.legend(loc=\"upper right\", fontsize=14)"
   ]
  },
  {
   "cell_type": "code",
   "execution_count": 120,
   "metadata": {},
   "outputs": [
    {
     "data": {
      "text/plain": [
       "<matplotlib.legend.Legend at 0x1464f016e10>"
      ]
     },
     "execution_count": 120,
     "metadata": {},
     "output_type": "execute_result"
    },
    {
     "data": {
      "image/png": "[encoded data removed]",
      "text/plain": [
       "<Figure size 720x432 with 1 Axes>"
      ]
     },
     "metadata": {},
     "output_type": "display_data"
    }
   ],
   "source": [
    "fig, ax = plt.subplots(nrows=1, ncols=1, figsize=(10,6))\n",
    "plt.plot(history2.history['acc'],label='Training Accuracy')\n",
    "plt.plot(history2.history['val_acc'],label='Validation Accuracy')\n",
    "ax.set_xlabel(\"Number of epochs -1\", fontsize=14)\n",
    "ax.set_ylabel(\"Accuracy\", fontsize=14)\n",
    "ax.legend(loc=\"upper left\", fontsize=14)"
   ]
  },
  {
   "cell_type": "code",
   "execution_count": 121,
   "metadata": {},
   "outputs": [],
   "source": [
    "n_snippets=100\n",
    "prompt = \"With this \"\n",
    "predicted_text = prompt\n",
    "prompt_int = np.array([idxGivenChar[c] for c in predicted_text])\n",
    "start_char_int = len(prompt_int)\n",
    "input_example_batch=np.zeros([batch_size,snippet_length-1],np.int32)\n",
    "for snippet in range(n_snippets):\n",
    "    input_example_batch[0,:start_char_int] = prompt_int #we start with char_int = 10 with a prompt of 10 char\n",
    "    for char_idx in range(start_char_int, snippet_length): # char_idx starts at 10 and ends at 20: 11 numbers\n",
    "        example_batch_predictions = np.argmax(model2.predict([input_example_batch[:,:seq_length],\n",
    "                                                              input_example_batch[:,seq_length:]],\n",
    "                                                              verbose=0,batch_size=batch_size),axis=2)\n",
    "        predicted_char = example_batch_predictions[0,char_idx-seq_length] #predicted char starts at 0 ends at 10: 11nbs\n",
    "        predicted_text = predicted_text + charGivenIdx[predicted_char]\n",
    "        if char_idx <snippet_length-1: #if char_idx is less than 20\n",
    "            input_example_batch[0,char_idx]= predicted_char\n",
    "        else: # if char_idx is 20, drop first character of the prompt; \n",
    "            prompt_int[:start_char_int-1] = input_example_batch[0,snippet_length-start_char_int:snippet_length-1]\n",
    "            prompt_int[start_char_int-1] = predicted_char"
   ]
  },
  {
   "cell_type": "code",
   "execution_count": 122,
   "metadata": {},
   "outputs": [
    {
     "name": "stdout",
     "output_type": "stream",
     "text": [
      "With this mark made a shameful beaus in me to acquainted to spiries than he had pone is thine.\n",
      "\n",
      "QUEEN MARGARET:\n",
      "O prince, and I for him.\n",
      "\n",
      "LUCIO:\n",
      "'Tis he, sir, but the painter leisurely fair an apparetel souls of me and put upon this fair come.\n",
      "\n",
      "FRIAR LAUREY:\n",
      "That you might a poison ot a life,\n",
      "And I'll find the fight of a queen of his death.\n",
      "If I had not a man that he counds the worst than a former days love to speak.\n",
      "\n",
      "CLIFFORD:\n",
      "Ay, ay, as thou art how to be ill-bed, where you shear, friends, sir, say that the mad boys will be pardon me to the same to the prince my father.\n",
      "But in this rosom of the seads and my sons should be the man cannot shall be the consul's honour,\n",
      "If I say for the desire to come to show 'twas the ward of my sons should be the man cannot shall be the consul's honour,\n",
      "If I say for the desire to come to show 'twas the ward of my sons should be the man cannot shall be the consul's honour,\n",
      "If I say for the desire to come to show 'twas the ward of my sons should be the man cannot shall be the consul's honour,\n",
      "If I say for the desire to come to show 'twas the ward of my sons shou\n"
     ]
    }
   ],
   "source": [
    "print(predicted_text)"
   ]
  },
  {
   "cell_type": "markdown",
   "metadata": {},
   "source": [
    "Much better. I think we can call this English. It looks as if the model starts to overfit after the third epoch. Actually, if one tries to only train for 3 epochs, the ability for the model to generate an output that is English is worse. Most likely because validation accuracy and validation loss are not adequate measures of the model's performance. \n",
    "\n",
    "#### Model iteration 3: the encoder is a GRU that puts out all the states of the sequence.\n",
    "\n",
    "Now, we set the parameter return_sequences, which requires the provision of the labels for the input sequence too, with the parameter stateful to False, which prevents the encoder from using an informative initial state. If we set the parameter stateful to True, the model would be equivalent to [1]"
   ]
  },
  {
   "cell_type": "code",
   "execution_count": 63,
   "metadata": {},
   "outputs": [
    {
     "name": "stdout",
     "output_type": "stream",
     "text": [
      "__________________________________________________________________________________________________\n",
      "Layer (type)                    Output Shape         Param #     Connected to                     \n",
      "==================================================================================================\n",
      "input_7 (InputLayer)            (64, 10)             0                                            \n",
      "__________________________________________________________________________________________________\n",
      "embedding_7 (Embedding)         (64, 10, 256)        16640       input_7[0][0]                    \n",
      "__________________________________________________________________________________________________\n",
      "input_8 (InputLayer)            (64, 10)             0                                            \n",
      "__________________________________________________________________________________________________\n",
      "gru_5 (GRU)                     [(64, 10, 1024), (64 3935232     embedding_7[0][0]                \n",
      "__________________________________________________________________________________________________\n",
      "embedding_8 (Embedding)         (64, 10, 256)        16640       input_8[0][0]                    \n",
      "__________________________________________________________________________________________________\n",
      "gru_6 (GRU)                     (64, 10, 1024)       3935232     embedding_8[0][0]                \n",
      "                                                                 gru_5[0][1]                      \n",
      "__________________________________________________________________________________________________\n",
      "concatenate_4 (Concatenate)     (64, 20, 1024)       0           gru_5[0][0]                      \n",
      "                                                                 gru_6[0][0]                      \n",
      "__________________________________________________________________________________________________\n",
      "dense_4 (Dense)                 (64, 20, 65)         66625       concatenate_4[0][0]              \n",
      "==================================================================================================\n",
      "Total params: 7,970,369\n",
      "Trainable params: 7,970,369\n",
      "Non-trainable params: 0\n",
      "__________________________________________________________________________________________________\n"
     ]
    }
   ],
   "source": [
    "encoder_seq_inputs=tf.keras.Input(batch_shape=(batch_size,seq_length))\n",
    "decoder_seq_inputs=tf.keras.Input(batch_shape=(batch_size,seq_length))\n",
    "x1=tf.keras.layers.Embedding(vocab_size,embedding_dim,batch_size=batch_size)(encoder_seq_inputs)\n",
    "x2=tf.keras.layers.Embedding(vocab_size,embedding_dim,batch_size=batch_size)(decoder_seq_inputs)\n",
    "[x3,x4]=tf.keras.layers.GRU(rnn_units,return_sequences=True,return_state=True,stateful=False,\n",
    "                                               recurrent_initializer='glorot_uniform')(x1)\n",
    "x5=tf.keras.layers.GRU(rnn_units,return_sequences=True,stateful=False,\n",
    "                                               recurrent_initializer='glorot_uniform')([x2,x4])\n",
    "x6=tf.keras.layers.Concatenate(axis=1)([x3,x5])\n",
    "outputs=tf.keras.layers.Dense(vocab_size, activation ='softmax')(x6)\n",
    "model3=tf.keras.Model(inputs=[encoder_seq_inputs,decoder_seq_inputs],outputs=outputs)\n",
    "model3.summary()"
   ]
  },
  {
   "cell_type": "code",
   "execution_count": 64,
   "metadata": {},
   "outputs": [],
   "source": [
    "model3.compile(optimizer='adam',loss='categorical_crossentropy', metrics=['acc'])"
   ]
  },
  {
   "cell_type": "code",
   "execution_count": 65,
   "metadata": {},
   "outputs": [
    {
     "name": "stdout",
     "output_type": "stream",
     "text": [
      "Train on 47808 samples, validate on 5248 samples\n",
      "Epoch 1/12\n",
      "47808/47808 [==============================] - 57s 1ms/step - loss: 2.0670 - acc: 0.4007 - val_loss: 1.7837 - val_acc: 0.4681\n",
      "Epoch 2/12\n",
      "47808/47808 [==============================] - 56s 1ms/step - loss: 1.6904 - acc: 0.4910 - val_loss: 1.6516 - val_acc: 0.5028\n",
      "Epoch 3/12\n",
      "47808/47808 [==============================] - 56s 1ms/step - loss: 1.5715 - acc: 0.5210 - val_loss: 1.6060 - val_acc: 0.5136\n",
      "Epoch 4/12\n",
      "47808/47808 [==============================] - 56s 1ms/step - loss: 1.4920 - acc: 0.5411 - val_loss: 1.5958 - val_acc: 0.5168\n",
      "Epoch 5/12\n",
      "47808/47808 [==============================] - 56s 1ms/step - loss: 1.4246 - acc: 0.5583 - val_loss: 1.6000 - val_acc: 0.5206\n",
      "Epoch 6/12\n",
      "47808/47808 [==============================] - 56s 1ms/step - loss: 1.3593 - acc: 0.5754 - val_loss: 1.6197 - val_acc: 0.5151\n",
      "Epoch 7/12\n",
      "47808/47808 [==============================] - 56s 1ms/step - loss: 1.2981 - acc: 0.5924 - val_loss: 1.6500 - val_acc: 0.5135\n",
      "Epoch 8/12\n",
      "47808/47808 [==============================] - 56s 1ms/step - loss: 1.2390 - acc: 0.6086 - val_loss: 1.6847 - val_acc: 0.5108\n",
      "Epoch 9/12\n",
      "47808/47808 [==============================] - 57s 1ms/step - loss: 1.1859 - acc: 0.6238 - val_loss: 1.7374 - val_acc: 0.5076\n",
      "Epoch 10/12\n",
      "47808/47808 [==============================] - 56s 1ms/step - loss: 1.1416 - acc: 0.6370 - val_loss: 1.7634 - val_acc: 0.5059\n",
      "Epoch 11/12\n",
      "47808/47808 [==============================] - 56s 1ms/step - loss: 1.1034 - acc: 0.6488 - val_loss: 1.8149 - val_acc: 0.4993\n",
      "Epoch 12/12\n",
      "47808/47808 [==============================] - 56s 1ms/step - loss: 1.0728 - acc: 0.6570 - val_loss: 1.8531 - val_acc: 0.4976\n"
     ]
    }
   ],
   "source": [
    "history3=model3.fit([input_data[:,:seq_length],input_data[:,seq_length:]],\n",
    "                    keras.utils.to_categorical(target_data, num_classes=vocab_size),\n",
    "                    shuffle=True, validation_split=validation_split,\n",
    "                    batch_size=batch_size, epochs=3) #12"
   ]
  },
  {
   "cell_type": "code",
   "execution_count": 66,
   "metadata": {},
   "outputs": [
    {
     "data": {
      "text/plain": [
       "<matplotlib.legend.Legend at 0x144be382dd8>"
      ]
     },
     "execution_count": 66,
     "metadata": {},
     "output_type": "execute_result"
    },
    {
     "data": {
      "image/png": "[encoded data removed]",
      "text/plain": [
       "<Figure size 720x432 with 1 Axes>"
      ]
     },
     "metadata": {},
     "output_type": "display_data"
    }
   ],
   "source": [
    "fig, ax = plt.subplots(nrows=1, ncols=1, figsize=(10,6))\n",
    "plt.plot(history3.history['loss'],label='Training Loss')\n",
    "plt.plot(history3.history['val_loss'],label='Validation Loss')\n",
    "ax.set_xlabel(\"Number of epochs -1\", fontsize=14)\n",
    "ax.set_ylabel(\"Loss\", fontsize=14)\n",
    "ax.legend(loc=\"upper right\", fontsize=14)"
   ]
  },
  {
   "cell_type": "code",
   "execution_count": 67,
   "metadata": {},
   "outputs": [
    {
     "data": {
      "text/plain": [
       "<matplotlib.legend.Legend at 0x144be43fa20>"
      ]
     },
     "execution_count": 67,
     "metadata": {},
     "output_type": "execute_result"
    },
    {
     "data": {
      "image/png": "[encoded data removed]",
      "text/plain": [
       "<Figure size 720x432 with 1 Axes>"
      ]
     },
     "metadata": {},
     "output_type": "display_data"
    }
   ],
   "source": [
    "fig, ax = plt.subplots(nrows=1, ncols=1, figsize=(10,6))\n",
    "plt.plot(history3.history['acc'],label='Training Accuracy')\n",
    "plt.plot(history3.history['val_acc'],label='Validation Accuracy')\n",
    "ax.set_xlabel(\"Number of epochs -1\", fontsize=14)\n",
    "ax.set_ylabel(\"Accuracy\", fontsize=14)\n",
    "ax.legend(loc=\"upper left\", fontsize=14)"
   ]
  },
  {
   "cell_type": "code",
   "execution_count": 68,
   "metadata": {},
   "outputs": [],
   "source": [
    "n_snippet=100\n",
    "prompt = \"With this \"\n",
    "predicted_text = prompt\n",
    "prompt_int = np.array([idxGivenChar[c] for c in predicted_text])\n",
    "start_char_int = len(prompt_int)\n",
    "input_example_batch=np.zeros([batch_size,snippet_length-1],np.int32)\n",
    "for snippet in range(n_snippets):\n",
    "    input_example_batch[0,:start_char_int] = prompt_int #we start with char_int = 10 with a prompt of 10 char\n",
    "    for char_idx in range(start_char_int, snippet_length): # char_idx starts at 10 and ends at 20: 11 numbers\n",
    "        example_batch_predictions = np.argmax(model3.predict([input_example_batch[:,:seq_length],\n",
    "                                                              input_example_batch[:,seq_length:]],\n",
    "                                                              verbose=0,batch_size=batch_size),axis=2)\n",
    "        predicted_char = example_batch_predictions[0,char_idx-1] #predicted char starts at 0 ends at 10: 11 numbers\n",
    "        predicted_text = predicted_text + charGivenIdx[predicted_char]\n",
    "        if char_idx <snippet_length-1: #if char_idx is less than 20\n",
    "            input_example_batch[0,char_idx]= predicted_char\n",
    "        else: # if char_idx is 20, drop first character of the prompt; \n",
    "            prompt_int[:start_char_int-1] = input_example_batch[0,snippet_length-start_char_int:snippet_length-1]\n",
    "            prompt_int[start_char_int-1] = predicted_char"
   ]
  },
  {
   "cell_type": "code",
   "execution_count": 69,
   "metadata": {},
   "outputs": [
    {
     "name": "stdout",
     "output_type": "stream",
     "text": [
      "With this on the housease.\n",
      "\n",
      "LUCIO:\n",
      "Within the day in companies and so fair a thoughts,\n",
      "And to the constard\n",
      "To be my husband; and, will you to the people the priest\n",
      "Tellest that made me say in this marriage?\n",
      "\n",
      "POLIXENES:\n",
      "O, go you the prison. Well, sir, then I were all his own purpose, whose person in plain.\n",
      "\n",
      "ROMEO:\n",
      "Whither?\n",
      "\n",
      "GLOUCESTER:\n",
      "I talk not what you please you, sir, an you, will you come to your honour! O me!\n",
      "What makis me?\n",
      "\n",
      "DUKE VINCENTIO:\n",
      "I will protesy you.\n",
      "\n",
      "PETRUCHIO:\n",
      "Father, be gone to Rome, and a parloon.\n",
      "\n",
      "Messenger:\n",
      "Say you have been abused her beggary which will be gone.\n",
      "\n",
      "LADY CAPULET:\n",
      "Who are of the duke to be spender-by their masters come to make me not to me, and stay with thee word and be such a devility,\n",
      "I will confess you do it.\n",
      "\n",
      "GREMIO:\n",
      "Ahat, march word is such a man of a kingdom\n",
      "To this prince to the searmorror of thy soul stings.\n",
      "\n",
      "KING EDWARD IV:\n",
      "Say is the barth to me this armed burning stone.\n",
      "\n",
      "CORIOLANUS:\n",
      "Most pardon, pardon, doth grace! and so I do death;\n",
      "But there is not a widow and the tradely speak of death.\n",
      "\n",
      "QUEEN MARGARET:\n",
      "What is a choss is not a father had been\n"
     ]
    }
   ],
   "source": [
    "print(predicted_text)"
   ]
  },
  {
   "cell_type": "markdown",
   "metadata": {},
   "source": [
    "Of course this is English too. This time, and for the next model, we will not bother with the curves.\n",
    "\n",
    "However, the last two models only use short prompts. This does not leave people much lee-way to express anything in it.\n",
    "\n",
    "#### Model iteration 4: the encoder is made of a stack of GRUs\n",
    "\n",
    "So, this next iteration uses a hiearchical encoder: a sequence of 40 characters is fed to 4 GRU units, each handling 10 and each starting with a vector of zeros as their initial state, to avoid backpropagating gradients further downstream. The output of these 4 GRUs is a set of four vectors, itself fed to another GRU. The later outputs the latent vector for the decoder and attempts to predict the first decoded character.\n",
    "\n",
    "In order to simplify the model we need a custom keras layer to split a sequence of 40 characters into 4 sets of 10. This way we do not need 4 separate sets of embedding weights. This is the purpose of the class below."
   ]
  },
  {
   "cell_type": "code",
   "execution_count": 70,
   "metadata": {},
   "outputs": [],
   "source": [
    "class MySplitLayerVersion(tf.keras.layers.Layer):\n",
    "    def __init__(self,n_splits):\n",
    "        super().__init__()\n",
    "        self.n_splits=n_splits\n",
    "        \n",
    "    def call(self,inputs):\n",
    "        return tf.split(inputs,num_or_size_splits=self.n_splits,axis=1)"
   ]
  },
  {
   "cell_type": "code",
   "execution_count": 71,
   "metadata": {},
   "outputs": [
    {
     "name": "stdout",
     "output_type": "stream",
     "text": [
      "__________________________________________________________________________________________________\n",
      "Layer (type)                    Output Shape         Param #     Connected to                     \n",
      "==================================================================================================\n",
      "input_9 (InputLayer)            (64, 40)             0                                            \n",
      "__________________________________________________________________________________________________\n",
      "embedding_9 (Embedding)         (64, 40, 256)        16640       input_9[0][0]                    \n",
      "__________________________________________________________________________________________________\n",
      "my_split_layer_version_1 (MySpl [(64, 10, 256), (64, 0           embedding_9[0][0]                \n",
      "__________________________________________________________________________________________________\n",
      "gru_7 (GRU)                     (64, 1024)           3935232     my_split_layer_version_1[0][0]   \n",
      "__________________________________________________________________________________________________\n",
      "gru_8 (GRU)                     (64, 1024)           3935232     my_split_layer_version_1[0][1]   \n",
      "__________________________________________________________________________________________________\n",
      "gru_9 (GRU)                     (64, 1024)           3935232     my_split_layer_version_1[0][2]   \n",
      "__________________________________________________________________________________________________\n",
      "gru_10 (GRU)                    (64, 1024)           3935232     my_split_layer_version_1[0][3]   \n",
      "__________________________________________________________________________________________________\n",
      "reshape_4 (Reshape)             (64, 1, 1024)        0           gru_7[0][0]                      \n",
      "__________________________________________________________________________________________________\n",
      "reshape_5 (Reshape)             (64, 1, 1024)        0           gru_8[0][0]                      \n",
      "__________________________________________________________________________________________________\n",
      "reshape_6 (Reshape)             (64, 1, 1024)        0           gru_9[0][0]                      \n",
      "__________________________________________________________________________________________________\n",
      "reshape_7 (Reshape)             (64, 1, 1024)        0           gru_10[0][0]                     \n",
      "__________________________________________________________________________________________________\n",
      "concatenate_5 (Concatenate)     (64, 4, 1024)        0           reshape_4[0][0]                  \n",
      "                                                                 reshape_5[0][0]                  \n",
      "                                                                 reshape_6[0][0]                  \n",
      "                                                                 reshape_7[0][0]                  \n",
      "__________________________________________________________________________________________________\n",
      "input_10 (InputLayer)           (64, 10)             0                                            \n",
      "__________________________________________________________________________________________________\n",
      "gru_11 (GRU)                    (64, 1024)           6294528     concatenate_5[0][0]              \n",
      "__________________________________________________________________________________________________\n",
      "embedding_10 (Embedding)        (64, 10, 256)        16640       input_10[0][0]                   \n",
      "__________________________________________________________________________________________________\n",
      "reshape_8 (Reshape)             (64, 1, 1024)        0           gru_11[0][0]                     \n",
      "__________________________________________________________________________________________________\n",
      "gru_12 (GRU)                    (64, 10, 1024)       3935232     embedding_10[0][0]               \n",
      "                                                                 gru_11[0][0]                     \n",
      "__________________________________________________________________________________________________\n",
      "concatenate_6 (Concatenate)     (64, 11, 1024)       0           reshape_8[0][0]                  \n",
      "                                                                 gru_12[0][0]                     \n",
      "__________________________________________________________________________________________________\n",
      "dense_5 (Dense)                 (64, 11, 65)         66625       concatenate_6[0][0]              \n",
      "==================================================================================================\n",
      "Total params: 26,070,593\n",
      "Trainable params: 26,070,593\n",
      "Non-trainable params: 0\n",
      "__________________________________________________________________________________________________\n"
     ]
    }
   ],
   "source": [
    "encoder_seq_inputs=tf.keras.Input(batch_shape=(batch_size,4*seq_length))\n",
    "# batch_size by 40\n",
    "decoder_seq_inputs=tf.keras.Input(batch_shape=(batch_size,seq_length))\n",
    "# batch_size by 10\n",
    "x0=tf.keras.layers.Embedding(vocab_size,embedding_dim,batch_size=batch_size)(encoder_seq_inputs)\n",
    "# batch_size by 40 by embedding dim\n",
    "x1,x2,x3,x4=MySplitLayerVersion(4)(x0)\n",
    "# each: batch_size by 10 by embdding dim\n",
    "x1a=tf.keras.layers.GRU(rnn_units,return_sequences=False,return_state=False,stateful=False,\n",
    "                                               recurrent_initializer='glorot_uniform')(x1)\n",
    "x1b=tf.keras.layers.Reshape(target_shape=(1,rnn_units))(x1a)\n",
    "x2a=tf.keras.layers.GRU(rnn_units,return_sequences=False,return_state=False,stateful=False,\n",
    "                                               recurrent_initializer='glorot_uniform')(x2)\n",
    "x2b=tf.keras.layers.Reshape(target_shape=(1,rnn_units))(x2a)\n",
    "x3a=tf.keras.layers.GRU(rnn_units,return_sequences=False,return_state=False,stateful=False,\n",
    "                                               recurrent_initializer='glorot_uniform')(x3)\n",
    "x3b=tf.keras.layers.Reshape(target_shape=(1,rnn_units))(x3a)\n",
    "x4a=tf.keras.layers.GRU(rnn_units,return_sequences=False,return_state=False,stateful=False,\n",
    "                                               recurrent_initializer='glorot_uniform')(x4)\n",
    "x4b=tf.keras.layers.Reshape(target_shape=(1,rnn_units))(x4a)\n",
    "x5=tf.keras.layers.Concatenate(axis=1)([x1b,x2b,x3b,x4b])\n",
    "x5a=tf.keras.layers.GRU(rnn_units,return_sequences=False,return_state=False,stateful=False,\n",
    "                                               recurrent_initializer='glorot_uniform')(x5)\n",
    "x6=tf.keras.layers.Embedding(vocab_size,embedding_dim,batch_size=batch_size)(decoder_seq_inputs)\n",
    "# batch_size by 50 by embedding dim\n",
    "x7=tf.keras.layers.GRU(rnn_units,return_sequences=True,stateful=False,\n",
    "                                               recurrent_initializer='glorot_uniform')([x6,x5a])\n",
    "x5b=tf.keras.layers.Reshape(target_shape=(1,rnn_units))(x5a)\n",
    "x8=tf.keras.layers.Concatenate(axis=1)([x5b,x7])\n",
    "outputs=tf.keras.layers.Dense(vocab_size, activation ='softmax')(x8)\n",
    "model4=tf.keras.Model(inputs=[encoder_seq_inputs,decoder_seq_inputs],outputs=outputs)\n",
    "model4.summary()"
   ]
  },
  {
   "cell_type": "code",
   "execution_count": 72,
   "metadata": {},
   "outputs": [],
   "source": [
    "model4.compile(optimizer='adam',loss='categorical_crossentropy', metrics=['acc'])"
   ]
  },
  {
   "cell_type": "code",
   "execution_count": 73,
   "metadata": {},
   "outputs": [
    {
     "name": "stdout",
     "output_type": "stream",
     "text": [
      "21870\n"
     ]
    }
   ],
   "source": [
    "snippet_length=5*seq_length+1\n",
    "n_samples_per_epoch = len(text)//snippet_length\n",
    "print(n_samples_per_epoch)"
   ]
  },
  {
   "cell_type": "code",
   "execution_count": 74,
   "metadata": {},
   "outputs": [
    {
     "name": "stdout",
     "output_type": "stream",
     "text": [
      "(21870, 51)\n",
      "341\n"
     ]
    }
   ],
   "source": [
    "sequences = np.array([text_as_int[idx*snippet_length:(idx+1)*snippet_length] for idx in range(n_samples_per_epoch)])\n",
    "print(sequences.shape)\n",
    "n_batches_per_epoch=n_samples_per_epoch//batch_size\n",
    "print(n_batches_per_epoch)"
   ]
  },
  {
   "cell_type": "code",
   "execution_count": 75,
   "metadata": {},
   "outputs": [
    {
     "name": "stdout",
     "output_type": "stream",
     "text": [
      "21824\n"
     ]
    }
   ],
   "source": [
    "n_usable_samples=n_batches_per_epoch*batch_size\n",
    "print(n_usable_samples)"
   ]
  },
  {
   "cell_type": "code",
   "execution_count": 76,
   "metadata": {},
   "outputs": [
    {
     "name": "stdout",
     "output_type": "stream",
     "text": [
      "(21824, 50) (21824, 11)\n"
     ]
    }
   ],
   "source": [
    "def split_input_target2(snippet):\n",
    "    input_text = snippet[:,:5*seq_length]\n",
    "    target_text = snippet[:,4*seq_length:]\n",
    "    return input_text, target_text\n",
    "\n",
    "input_data, target_data = split_input_target2(sequences[:n_usable_samples])\n",
    "print(input_data.shape, target_data.shape)"
   ]
  },
  {
   "cell_type": "code",
   "execution_count": 77,
   "metadata": {},
   "outputs": [
    {
     "name": "stdout",
     "output_type": "stream",
     "text": [
      "0.09970674486803519\n"
     ]
    }
   ],
   "source": [
    "n_batches_per_epoch//10\n",
    "validation_split=(n_batches_per_epoch//10)/n_batches_per_epoch\n",
    "print(validation_split)"
   ]
  },
  {
   "cell_type": "code",
   "execution_count": 78,
   "metadata": {},
   "outputs": [
    {
     "name": "stdout",
     "output_type": "stream",
     "text": [
      "Train on 19648 samples, validate on 2176 samples\n",
      "Epoch 1/10\n",
      "19648/19648 [==============================] - 68s 3ms/step - loss: 2.3257 - acc: 0.3454 - val_loss: 2.0389 - val_acc: 0.4029\n",
      "Epoch 2/10\n",
      "19648/19648 [==============================] - 65s 3ms/step - loss: 1.8513 - acc: 0.4534 - val_loss: 1.8952 - val_acc: 0.4392\n",
      "Epoch 3/10\n",
      "19648/19648 [==============================] - 65s 3ms/step - loss: 1.6645 - acc: 0.5005 - val_loss: 1.8125 - val_acc: 0.4666\n",
      "Epoch 4/10\n",
      "19648/19648 [==============================] - 65s 3ms/step - loss: 1.5252 - acc: 0.5368 - val_loss: 1.7854 - val_acc: 0.4841\n",
      "Epoch 5/10\n",
      "19648/19648 [==============================] - 65s 3ms/step - loss: 1.3903 - acc: 0.5703 - val_loss: 1.8108 - val_acc: 0.4765\n",
      "Epoch 6/10\n",
      "19648/19648 [==============================] - 65s 3ms/step - loss: 1.2412 - acc: 0.6122 - val_loss: 1.8576 - val_acc: 0.4825\n",
      "Epoch 7/10\n",
      "19648/19648 [==============================] - 65s 3ms/step - loss: 1.0746 - acc: 0.6607 - val_loss: 1.9807 - val_acc: 0.4686\n",
      "Epoch 8/10\n",
      "19648/19648 [==============================] - 65s 3ms/step - loss: 0.8872 - acc: 0.7193 - val_loss: 2.1412 - val_acc: 0.4608\n",
      "Epoch 9/10\n",
      "19648/19648 [==============================] - 65s 3ms/step - loss: 0.7093 - acc: 0.7743 - val_loss: 2.3038 - val_acc: 0.4588\n",
      "Epoch 10/10\n",
      "19648/19648 [==============================] - 65s 3ms/step - loss: 0.5459 - acc: 0.8278 - val_loss: 2.4955 - val_acc: 0.4530\n"
     ]
    }
   ],
   "source": [
    "history4=model4.fit([input_data[:,:4*seq_length],input_data[:,4*seq_length:]],\n",
    "                    keras.utils.to_categorical(target_data, num_classes=vocab_size),\n",
    "                    shuffle=True, validation_split=validation_split,\n",
    "                    batch_size=batch_size, epochs=10) #10"
   ]
  },
  {
   "cell_type": "code",
   "execution_count": 79,
   "metadata": {},
   "outputs": [
    {
     "data": {
      "text/plain": [
       "<matplotlib.legend.Legend at 0x144c6b8ba90>"
      ]
     },
     "execution_count": 79,
     "metadata": {},
     "output_type": "execute_result"
    },
    {
     "data": {
      "image/png": "[encoded data removed]",
      "text/plain": [
       "<Figure size 720x432 with 1 Axes>"
      ]
     },
     "metadata": {},
     "output_type": "display_data"
    }
   ],
   "source": [
    "fig, ax = plt.subplots(nrows=1, ncols=1, figsize=(10,6))\n",
    "plt.plot(history4.history['loss'],label='Training Loss')\n",
    "plt.plot(history4.history['val_loss'],label='Validation Loss')\n",
    "ax.set_xlabel(\"Number of epochs -1\", fontsize=14)\n",
    "ax.set_ylabel(\"Loss\", fontsize=14)\n",
    "ax.legend(loc=\"upper right\", fontsize=14)"
   ]
  },
  {
   "cell_type": "code",
   "execution_count": 80,
   "metadata": {},
   "outputs": [
    {
     "data": {
      "text/plain": [
       "<matplotlib.legend.Legend at 0x144c6c09a90>"
      ]
     },
     "execution_count": 80,
     "metadata": {},
     "output_type": "execute_result"
    },
    {
     "data": {
      "image/png": "[encoded data removed]",
      "text/plain": [
       "<Figure size 720x432 with 1 Axes>"
      ]
     },
     "metadata": {},
     "output_type": "display_data"
    }
   ],
   "source": [
    "fig, ax = plt.subplots(nrows=1, ncols=1, figsize=(10,6))\n",
    "plt.plot(history4.history['acc'],label='Training Accuracy')\n",
    "plt.plot(history4.history['val_acc'],label='Validation Accuracy')\n",
    "ax.set_xlabel(\"Number of epochs -1\", fontsize=14)\n",
    "ax.set_ylabel(\"Accuracy\", fontsize=14)\n",
    "ax.legend(loc=\"upper left\", fontsize=14)"
   ]
  },
  {
   "cell_type": "code",
   "execution_count": 81,
   "metadata": {},
   "outputs": [],
   "source": [
    "n_snippet=5\n",
    "prompt = \"I did not want to write this poem, so I \"\n",
    "predicted_text = prompt\n",
    "prompt_int = np.array([idxGivenChar[c] for c in predicted_text])\n",
    "start_char_int = len(prompt_int)\n",
    "input_example_batch=np.zeros([batch_size,snippet_length-1],np.int32)\n",
    "for snippet in range(n_snippets):\n",
    "    input_example_batch[0,:start_char_int] = prompt_int #we start with char_int = 40 with a prompt of 40 char\n",
    "    for char_idx in range(start_char_int, snippet_length): # char_idx starts at 40 and ends at 50: 11 numbers\n",
    "        example_batch_predictions = np.argmax(model4.predict([input_example_batch[:,:4*seq_length],\n",
    "                                                              input_example_batch[:,4*seq_length:]],\n",
    "                                                              verbose=0,batch_size=batch_size),axis=2)\n",
    "        predicted_char = example_batch_predictions[0,char_idx-4*seq_length] #predicted char starts at 0 ends at 10: 11 numbers\n",
    "        predicted_text = predicted_text + charGivenIdx[predicted_char]\n",
    "        if char_idx <snippet_length-1: #if char_idx is less than 50\n",
    "            input_example_batch[0,char_idx]= predicted_char\n",
    "        else: # if char_idx is 20, drop first character of the prompt; \n",
    "            prompt_int[:start_char_int-1] = input_example_batch[0,snippet_length-start_char_int:snippet_length-1]\n",
    "            prompt_int[start_char_int-1] = predicted_char"
   ]
  },
  {
   "cell_type": "code",
   "execution_count": 82,
   "metadata": {},
   "outputs": [
    {
     "name": "stdout",
     "output_type": "stream",
     "text": [
      "I did not want to write this poem, so I trow thy herm.\n",
      "\n",
      "Second Seepher:\n",
      "No, no, no, my lord, to make me with a long,\n",
      "And therefore fastises of her no might souls,\n",
      "Save his race his fathers of the success,\n",
      "And therefore friends, so he dis face. Phat take\n",
      "his heart as driams to lies me as ore\n",
      "I no fortune, my lord, to rate her before.\n",
      "\n",
      "Second Citizens:\n",
      "You are never with me, in her appears,\n",
      "After thou some is cruncess this other before\n",
      "As sleep in the drume on her nought so villain\n",
      "Which rest underselves make him state; and answer\n",
      "To thee, bet me not again to alse to look\n",
      "And with his house of true reportuness\n",
      "As so fellow withis and as no king:\n",
      "Ay, I am no endes to pleased my county.\n",
      "\n",
      "QUEEN Murderer:\n",
      "Now, fair beful in the native provies a drum,\n",
      "Sace dispainsaying in his heart,\n",
      "And then I'll say in while you with a fribe.\n",
      "\n",
      "LEONTES:\n",
      "And then, my lord should not bise my life,\n",
      "Shall have a shame. Why counsel some stroke\n",
      "This sun fall'd wish with our counsel,\n",
      "Who come on in princes, the oun in his back;\n",
      "Have the shemiens please to scape as one told.\n",
      "\n",
      "Servant:\n",
      "He dreads his sound afford with such a prince.\n",
      "Then whose happy make \n"
     ]
    }
   ],
   "source": [
    "print(predicted_text)"
   ]
  },
  {
   "cell_type": "markdown",
   "metadata": {},
   "source": [
    "## Step 4: Results\n",
    "\n",
    "To summarize, the results below show using 1 D convolutions on the sequence demension does not lead to accurate prediction of the decoder initial state. This is likely because convolutions render the detection of a feature invariant to position. In language, position matters as syllable order matters. \n",
    "\n",
    "Using GRUs in the encoder, with or without the return_sequences parameter set to True produces good results. This confirms, as Andrej Karpathy implied that GRUs are a good way to encode sequences such as language.\n",
    "\n",
    "However, we get the best results with a hierarchical encoder, a deeper one, because it allows for a longer prompt. Because the stateful parameter of each of the bottom GRUs of the encoder is set to False, gradients cannot propagate further down. Its output is also English.\n",
    "\n",
    "As for validation accuracy, it is a poor measure of performance"
   ]
  },
  {
   "cell_type": "code",
   "execution_count": 123,
   "metadata": {},
   "outputs": [
    {
     "data": {
      "text/html": [
       "<div>\n",
       "<style scoped>\n",
       "    .dataframe tbody tr th:only-of-type {\n",
       "        vertical-align: middle;\n",
       "    }\n",
       "\n",
       "    .dataframe tbody tr th {\n",
       "        vertical-align: top;\n",
       "    }\n",
       "\n",
       "    .dataframe thead th {\n",
       "        text-align: right;\n",
       "    }\n",
       "</style>\n",
       "<table border=\"1\" class=\"dataframe\">\n",
       "  <thead>\n",
       "    <tr style=\"text-align: right;\">\n",
       "      <th></th>\n",
       "      <th>Validation Accuracy</th>\n",
       "      <th>English?</th>\n",
       "    </tr>\n",
       "  </thead>\n",
       "  <tbody>\n",
       "    <tr>\n",
       "      <th>CNN encoder</th>\n",
       "      <td>0.924993</td>\n",
       "      <td>no</td>\n",
       "    </tr>\n",
       "    <tr>\n",
       "      <th>GRU encoder with last state output</th>\n",
       "      <td>0.490663</td>\n",
       "      <td>yes</td>\n",
       "    </tr>\n",
       "    <tr>\n",
       "      <th>GRU with sequences ouput</th>\n",
       "      <td>0.497609</td>\n",
       "      <td>yes</td>\n",
       "    </tr>\n",
       "    <tr>\n",
       "      <th>Stacked GRUs</th>\n",
       "      <td>0.452958</td>\n",
       "      <td>yes</td>\n",
       "    </tr>\n",
       "  </tbody>\n",
       "</table>\n",
       "</div>"
      ],
      "text/plain": [
       "                                    Validation Accuracy English?\n",
       "CNN encoder                                    0.924993       no\n",
       "GRU encoder with last state output             0.490663      yes\n",
       "GRU with sequences ouput                       0.497609      yes\n",
       "Stacked GRUs                                   0.452958      yes"
      ]
     },
     "execution_count": 123,
     "metadata": {},
     "output_type": "execute_result"
    }
   ],
   "source": [
    "index_list=['CNN encoder','GRU encoder with last state output','GRU with sequences ouput','Stacked GRUs']\n",
    "column_list=['Validation Accuracy','English?']\n",
    "y='yes'\n",
    "n='no'\n",
    "values=[[history1.history['val_acc'][-1],n],[history2.history['val_acc'][-1],y],\n",
    "        [history3.history['val_acc'][-1],y],[history4.history['val_acc'][-1],y]]\n",
    "table_df=pd.DataFrame(values,index=index_list,columns=column_list)\n",
    "table_df.head()"
   ]
  },
  {
   "attachments": {
    "AnswerToPromptIfThisPoemWasNot.PNG": {
     "image/png": "[encoded data removed]"
    }
   },
   "cell_type": "markdown",
   "metadata": {},
   "source": [
    "## Step 5: Conclusion\n",
    "\n",
    "Using a classical encoder decoder model with GRU units, it is possible to generate quite a long Shakesperian text without infinitely backpropagating the gradients, which only go back to the first character of the encoder. This usually means short prompts.\n",
    "\n",
    "But short prompts do not give much opportunity to my brother in law to give cues about himself, when writing his Christmas poem.\n",
    "\n",
    "A solution to this conendrum is to build a deeper, hierarchical encoder: the prompt is a bit longer.\n",
    "\n",
    "Maybe my brother-in-law shoud write his poems anyway: sometimes, when you feed the networ the prompt: \"If this poem was not\", it answers:\n",
    "\n",
    "![AnswerToPromptIfThisPoemWasNot.PNG](attachment:AnswerToPromptIfThisPoemWasNot.PNG)"
   ]
  },
  {
   "cell_type": "markdown",
   "metadata": {},
   "source": [
    "#### Bibliography\n",
    "\n",
    "[1] Tensorflow authors. Text generation with an RNN. Tensorflow tutorial\n",
    "https://www.tensorflow.org/text/tutorials/text_generation\n",
    "\n",
    "[2] Kyunghyun Cho, Bart van Merrienboer, Caglar Gulcehre, Fethi Bougares, Holger Schwenk, Yoshua Bengio (2014). Learning Phase Representations using RNN Encoder-Decoder for Statistical Machine Translation. arXiv:1406.1078v1\n",
    "\n",
    "[3] Ashish Vaswani, Noam Shazeer, Niki Parmar, Jakob Uszkoreit, Llion Jones, Aidan N. Gomez, Lukasz Kaiser, Illia Polosukhin (2017). Attention is all you need. 31st Conference on Neural Information Processing Systems (NIPS 2017), Long Beach, CA, USA.\n",
    "arXiv:1706:03762v5\n",
    "\n",
    "[4] Andrej Karpathy (2015). The Unreasonable Effectiveness of Recurrent Neural Networks. Andrej Karpathy blog\n",
    "https://karpathy.github.io/2015/05/21/rnn-effectiveness/"
   ]
  },
  {
   "cell_type": "code",
   "execution_count": null,
   "metadata": {},
   "outputs": [],
   "source": []
  }
 ],
 "metadata": {
  "kernelspec": {
   "display_name": "Python 3",
   "language": "python",
   "name": "python3"
  },
  "language_info": {
   "codemirror_mode": {
    "name": "ipython",
    "version": 3
   },
   "file_extension": ".py",
   "mimetype": "text/x-python",
   "name": "python",
   "nbconvert_exporter": "python",
   "pygments_lexer": "ipython3",
   "version": "3.6.6"
  }
 },
 "nbformat": 4,
 "nbformat_minor": 5
}
